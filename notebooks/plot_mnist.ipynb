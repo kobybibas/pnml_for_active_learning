{
 "cells": [
  {
   "cell_type": "code",
   "execution_count": 1,
   "metadata": {},
   "outputs": [],
   "source": [
    "%load_ext autoreload\n",
    "%autoreload 2\n",
    "\n",
    "import os\n",
    "import os.path as osp\n",
    "import sys\n",
    "\n",
    "import matplotlib\n",
    "import matplotlib.pyplot as plt\n",
    "import numpy as np\n",
    "import pandas as pd\n",
    "import wandb\n",
    "\n",
    "sys.path.append(\"../src\")\n",
    "\n",
    "from plot_utils import process_results, execute_df_rollout, execute_plot, find_max_train_save\n",
    "\n",
    "api = wandb.Api(\n",
    "    overrides={\"entity\": \"kobybibas\", \"project\": \"pnml_for_active_learning\"}\n",
    ")\n",
    "out_dir = \"../outputs/analysis\"\n",
    "os.makedirs(out_dir, exist_ok=True)\n",
    "\n",
    "# Project is specified by\n",
    "runs = api.runs(\"kobybibas/pnml_for_active_learning\")\n"
   ]
  },
  {
   "cell_type": "code",
   "execution_count": 2,
   "metadata": {},
   "outputs": [
    {
     "name": "stdout",
     "output_type": "stream",
     "text": [
      "\u001b[34m\u001b[1mwandb\u001b[0m: Currently logged in as: \u001b[33mkobybibas\u001b[0m. Use \u001b[1m`wandb login --relogin`\u001b[0m to force relogin\n"
     ]
    }
   ],
   "source": [
    "! wandb login"
   ]
  },
  {
   "cell_type": "code",
   "execution_count": 5,
   "metadata": {},
   "outputs": [
    {
     "name": "stdout",
     "output_type": "stream",
     "text": [
      "kobybibas/pnml_for_active_learning/1kxnmmfk\n"
     ]
    },
    {
     "ename": "KeyError",
     "evalue": "'training_set_size'",
     "output_type": "error",
     "traceback": [
      "\u001b[0;31m---------------------------------------------------------------------------\u001b[0m",
      "\u001b[0;31mKeyError\u001b[0m                                  Traceback (most recent call last)",
      "\u001b[1;32m/home/ubuntu/pnml_for_active_learning/notebooks/plot_mnist.ipynb Cell 3\u001b[0m in \u001b[0;36m<cell line: 36>\u001b[0;34m()\u001b[0m\n\u001b[1;32m     <a href='vscode-notebook-cell://ssh-remote%2Bec2/home/ubuntu/pnml_for_active_learning/notebooks/plot_mnist.ipynb#W2sdnNjb2RlLXJlbW90ZQ%3D%3D?line=17'>18</a>\u001b[0m kmean_runs \u001b[39m=\u001b[39m [\n\u001b[1;32m     <a href='vscode-notebook-cell://ssh-remote%2Bec2/home/ubuntu/pnml_for_active_learning/notebooks/plot_mnist.ipynb#W2sdnNjb2RlLXJlbW90ZQ%3D%3D?line=18'>19</a>\u001b[0m     \u001b[39m'\u001b[39m\u001b[39mkobybibas/pnml_for_active_learning/3q2gcjf6\u001b[39m\u001b[39m'\u001b[39m,\n\u001b[1;32m     <a href='vscode-notebook-cell://ssh-remote%2Bec2/home/ubuntu/pnml_for_active_learning/notebooks/plot_mnist.ipynb#W2sdnNjb2RlLXJlbW90ZQ%3D%3D?line=19'>20</a>\u001b[0m     \u001b[39m'\u001b[39m\u001b[39mkobybibas/pnml_for_active_learning/1wjd4fos\u001b[39m\u001b[39m'\u001b[39m,\n\u001b[0;32m   (...)\u001b[0m\n\u001b[1;32m     <a href='vscode-notebook-cell://ssh-remote%2Bec2/home/ubuntu/pnml_for_active_learning/notebooks/plot_mnist.ipynb#W2sdnNjb2RlLXJlbW90ZQ%3D%3D?line=23'>24</a>\u001b[0m     \u001b[39m'\u001b[39m\u001b[39mkobybibas/pnml_for_active_learning/3t72irke\u001b[39m\u001b[39m'\u001b[39m\n\u001b[1;32m     <a href='vscode-notebook-cell://ssh-remote%2Bec2/home/ubuntu/pnml_for_active_learning/notebooks/plot_mnist.ipynb#W2sdnNjb2RlLXJlbW90ZQ%3D%3D?line=24'>25</a>\u001b[0m ]\n\u001b[1;32m     <a href='vscode-notebook-cell://ssh-remote%2Bec2/home/ubuntu/pnml_for_active_learning/notebooks/plot_mnist.ipynb#W2sdnNjb2RlLXJlbW90ZQ%3D%3D?line=26'>27</a>\u001b[0m pnml_runs \u001b[39m=\u001b[39m [\n\u001b[1;32m     <a href='vscode-notebook-cell://ssh-remote%2Bec2/home/ubuntu/pnml_for_active_learning/notebooks/plot_mnist.ipynb#W2sdnNjb2RlLXJlbW90ZQ%3D%3D?line=27'>28</a>\u001b[0m     \u001b[39m'\u001b[39m\u001b[39mkobybibas/pnml_for_active_learning/f8vdemyk\u001b[39m\u001b[39m'\u001b[39m,\n\u001b[1;32m     <a href='vscode-notebook-cell://ssh-remote%2Bec2/home/ubuntu/pnml_for_active_learning/notebooks/plot_mnist.ipynb#W2sdnNjb2RlLXJlbW90ZQ%3D%3D?line=28'>29</a>\u001b[0m     \u001b[39m'\u001b[39m\u001b[39mkobybibas/pnml_for_active_learning/293fo40c\u001b[39m\u001b[39m'\u001b[39m,\n\u001b[0;32m   (...)\u001b[0m\n\u001b[1;32m     <a href='vscode-notebook-cell://ssh-remote%2Bec2/home/ubuntu/pnml_for_active_learning/notebooks/plot_mnist.ipynb#W2sdnNjb2RlLXJlbW90ZQ%3D%3D?line=32'>33</a>\u001b[0m     \u001b[39m'\u001b[39m\u001b[39mkobybibas/pnml_for_active_learning/2nzpapfg\u001b[39m\u001b[39m'\u001b[39m\n\u001b[1;32m     <a href='vscode-notebook-cell://ssh-remote%2Bec2/home/ubuntu/pnml_for_active_learning/notebooks/plot_mnist.ipynb#W2sdnNjb2RlLXJlbW90ZQ%3D%3D?line=33'>34</a>\u001b[0m ]\n\u001b[0;32m---> <a href='vscode-notebook-cell://ssh-remote%2Bec2/home/ubuntu/pnml_for_active_learning/notebooks/plot_mnist.ipynb#W2sdnNjb2RlLXJlbW90ZQ%3D%3D?line=35'>36</a>\u001b[0m random_dfs \u001b[39m=\u001b[39m process_results(api\u001b[39m=\u001b[39;49mapi,run_list\u001b[39m=\u001b[39;49mrandom_runs)\n\u001b[1;32m     <a href='vscode-notebook-cell://ssh-remote%2Bec2/home/ubuntu/pnml_for_active_learning/notebooks/plot_mnist.ipynb#W2sdnNjb2RlLXJlbW90ZQ%3D%3D?line=36'>37</a>\u001b[0m bald_dfs \u001b[39m=\u001b[39m process_results(api\u001b[39m=\u001b[39mapi,run_list\u001b[39m=\u001b[39mbald_runs)\n\u001b[1;32m     <a href='vscode-notebook-cell://ssh-remote%2Bec2/home/ubuntu/pnml_for_active_learning/notebooks/plot_mnist.ipynb#W2sdnNjb2RlLXJlbW90ZQ%3D%3D?line=37'>38</a>\u001b[0m kmean_dfs \u001b[39m=\u001b[39m process_results(api\u001b[39m=\u001b[39mapi,run_list\u001b[39m=\u001b[39mkmean_runs)\n",
      "File \u001b[0;32m~/pnml_for_active_learning/notebooks/../src/plot_utils.py:16\u001b[0m, in \u001b[0;36mprocess_results\u001b[0;34m(run_list, api)\u001b[0m\n\u001b[1;32m     12\u001b[0m     run \u001b[39m=\u001b[39m api\u001b[39m.\u001b[39mrun(run_name)\n\u001b[1;32m     13\u001b[0m     df \u001b[39m=\u001b[39m run\u001b[39m.\u001b[39mhistory(\n\u001b[1;32m     14\u001b[0m         keys\u001b[39m=\u001b[39m[\u001b[39m\"\u001b[39m\u001b[39mtraining_set_size\u001b[39m\u001b[39m\"\u001b[39m, \u001b[39m\"\u001b[39m\u001b[39mtest_acc\u001b[39m\u001b[39m\"\u001b[39m, \u001b[39m\"\u001b[39m\u001b[39mtest_loss\u001b[39m\u001b[39m\"\u001b[39m, \u001b[39m\"\u001b[39m\u001b[39mlabel_-1_ratio\u001b[39m\u001b[39m\"\u001b[39m]\n\u001b[1;32m     15\u001b[0m     )\n\u001b[0;32m---> 16\u001b[0m     df\u001b[39m.\u001b[39;49mdropna()\u001b[39m.\u001b[39;49msort_values(by\u001b[39m=\u001b[39;49m\u001b[39m\"\u001b[39;49m\u001b[39mtraining_set_size\u001b[39;49m\u001b[39m\"\u001b[39;49m)\u001b[39m.\u001b[39mset_index(\u001b[39m\"\u001b[39m\u001b[39mtraining_set_size\u001b[39m\u001b[39m\"\u001b[39m)\n\u001b[1;32m     17\u001b[0m     dfs\u001b[39m.\u001b[39mappend(df)\n\u001b[1;32m     19\u001b[0m \u001b[39mreturn\u001b[39;00m dfs\n",
      "File \u001b[0;32m~/anaconda3/envs/pnml_for_active_learning/lib/python3.9/site-packages/pandas/util/_decorators.py:311\u001b[0m, in \u001b[0;36mdeprecate_nonkeyword_arguments.<locals>.decorate.<locals>.wrapper\u001b[0;34m(*args, **kwargs)\u001b[0m\n\u001b[1;32m    305\u001b[0m \u001b[39mif\u001b[39;00m \u001b[39mlen\u001b[39m(args) \u001b[39m>\u001b[39m num_allow_args:\n\u001b[1;32m    306\u001b[0m     warnings\u001b[39m.\u001b[39mwarn(\n\u001b[1;32m    307\u001b[0m         msg\u001b[39m.\u001b[39mformat(arguments\u001b[39m=\u001b[39marguments),\n\u001b[1;32m    308\u001b[0m         \u001b[39mFutureWarning\u001b[39;00m,\n\u001b[1;32m    309\u001b[0m         stacklevel\u001b[39m=\u001b[39mstacklevel,\n\u001b[1;32m    310\u001b[0m     )\n\u001b[0;32m--> 311\u001b[0m \u001b[39mreturn\u001b[39;00m func(\u001b[39m*\u001b[39;49margs, \u001b[39m*\u001b[39;49m\u001b[39m*\u001b[39;49mkwargs)\n",
      "File \u001b[0;32m~/anaconda3/envs/pnml_for_active_learning/lib/python3.9/site-packages/pandas/core/frame.py:6313\u001b[0m, in \u001b[0;36mDataFrame.sort_values\u001b[0;34m(self, by, axis, ascending, inplace, kind, na_position, ignore_index, key)\u001b[0m\n\u001b[1;32m   6309\u001b[0m \u001b[39melif\u001b[39;00m \u001b[39mlen\u001b[39m(by):\n\u001b[1;32m   6310\u001b[0m     \u001b[39m# len(by) == 1\u001b[39;00m\n\u001b[1;32m   6312\u001b[0m     by \u001b[39m=\u001b[39m by[\u001b[39m0\u001b[39m]\n\u001b[0;32m-> 6313\u001b[0m     k \u001b[39m=\u001b[39m \u001b[39mself\u001b[39;49m\u001b[39m.\u001b[39;49m_get_label_or_level_values(by, axis\u001b[39m=\u001b[39;49maxis)\n\u001b[1;32m   6315\u001b[0m     \u001b[39m# need to rewrap column in Series to apply key function\u001b[39;00m\n\u001b[1;32m   6316\u001b[0m     \u001b[39mif\u001b[39;00m key \u001b[39mis\u001b[39;00m \u001b[39mnot\u001b[39;00m \u001b[39mNone\u001b[39;00m:\n\u001b[1;32m   6317\u001b[0m         \u001b[39m# error: Incompatible types in assignment (expression has type\u001b[39;00m\n\u001b[1;32m   6318\u001b[0m         \u001b[39m# \"Series\", variable has type \"ndarray\")\u001b[39;00m\n",
      "File \u001b[0;32m~/anaconda3/envs/pnml_for_active_learning/lib/python3.9/site-packages/pandas/core/generic.py:1840\u001b[0m, in \u001b[0;36mNDFrame._get_label_or_level_values\u001b[0;34m(self, key, axis)\u001b[0m\n\u001b[1;32m   1838\u001b[0m     values \u001b[39m=\u001b[39m \u001b[39mself\u001b[39m\u001b[39m.\u001b[39maxes[axis]\u001b[39m.\u001b[39mget_level_values(key)\u001b[39m.\u001b[39m_values\n\u001b[1;32m   1839\u001b[0m \u001b[39melse\u001b[39;00m:\n\u001b[0;32m-> 1840\u001b[0m     \u001b[39mraise\u001b[39;00m \u001b[39mKeyError\u001b[39;00m(key)\n\u001b[1;32m   1842\u001b[0m \u001b[39m# Check for duplicates\u001b[39;00m\n\u001b[1;32m   1843\u001b[0m \u001b[39mif\u001b[39;00m values\u001b[39m.\u001b[39mndim \u001b[39m>\u001b[39m \u001b[39m1\u001b[39m:\n",
      "\u001b[0;31mKeyError\u001b[0m: 'training_set_size'"
     ]
    }
   ],
   "source": [
    "random_runs = [\n",
    "    \"kobybibas/pnml_for_active_learning/2wveodh5\",\n",
    "    \"kobybibas/pnml_for_active_learning/2zdwt6p9\",\n",
    "    \"kobybibas/pnml_for_active_learning/1kxnmmfk\",\n",
    "    \"kobybibas/pnml_for_active_learning/1pde24jz\",\n",
    "    \"kobybibas/pnml_for_active_learning/3d8zztpy\",\n",
    "    \"kobybibas/pnml_for_active_learning/27evmn5h\",\n",
    "]\n",
    "bald_runs = [\n",
    "    \"kobybibas/pnml_for_active_learning/18alsmy8\",\n",
    "    \"kobybibas/pnml_for_active_learning/2wi09eg2\",\n",
    "    \"kobybibas/pnml_for_active_learning/qdpvcdiq\",\n",
    "    \"kobybibas/pnml_for_active_learning/2255euwa\",\n",
    "    \"kobybibas/pnml_for_active_learning/3oxmtm94\",\n",
    "    \"kobybibas/pnml_for_active_learning/2hwyn859\",\n",
    "]\n",
    "\n",
    "kmean_runs = [\n",
    "    'kobybibas/pnml_for_active_learning/3q2gcjf6',\n",
    "    'kobybibas/pnml_for_active_learning/1wjd4fos',\n",
    "    'kobybibas/pnml_for_active_learning/1w5709p2',\n",
    "    'kobybibas/pnml_for_active_learning/1wuq6elv',\n",
    "    'kobybibas/pnml_for_active_learning/10y0grxx',\n",
    "    'kobybibas/pnml_for_active_learning/3t72irke'\n",
    "]\n",
    "\n",
    "pnml_runs = [\n",
    "    'kobybibas/pnml_for_active_learning/f8vdemyk',\n",
    "    'kobybibas/pnml_for_active_learning/293fo40c',\n",
    "    'kobybibas/pnml_for_active_learning/2yk11gfw',\n",
    "    'kobybibas/pnml_for_active_learning/2jacpjdx',\n",
    "    'kobybibas/pnml_for_active_learning/10b91z3f',\n",
    "    'kobybibas/pnml_for_active_learning/2nzpapfg'\n",
    "]\n",
    "\n",
    "random_dfs = process_results(api=api,run_list=random_runs)\n",
    "bald_dfs = process_results(api=api,run_list=bald_runs)\n",
    "kmean_dfs = process_results(api=api,run_list=kmean_runs)\n",
    "pnml_dfs = process_results(api=api,run_list=pnml_runs)"
   ]
  },
  {
   "cell_type": "code",
   "execution_count": null,
   "metadata": {},
   "outputs": [],
   "source": [
    "rolling_size = 5\n",
    "random_res = execute_df_rollout(random_dfs,rolling_size=rolling_size)\n",
    "bald_res = execute_df_rollout(bald_dfs,rolling_size=rolling_size)\n",
    "kmean_res = execute_df_rollout(kmean_dfs,rolling_size=rolling_size)\n",
    "pnml_res = execute_df_rollout(pnml_dfs,rolling_size=rolling_size)\n",
    "plot_list = [(random_res, \"Random\"), (bald_res, \"Bald\"), (kmean_res, 'Core-set'),(pnml_res, \"DIAL\")]\n"
   ]
  },
  {
   "cell_type": "code",
   "execution_count": null,
   "metadata": {},
   "outputs": [],
   "source": [
    "row = find_max_train_save(pnml_res, bald_res)\n",
    "print(100 * row.training_set_size_left / row.training_set_size_right)\n",
    "print(row)"
   ]
  },
  {
   "cell_type": "code",
   "execution_count": null,
   "metadata": {},
   "outputs": [],
   "source": [
    "plt.style.use([\"science\", \"bright\",'no-latex'])\n",
    "fig, ax = plt.subplots(1, 1, dpi=100, figsize=(4, 3))\n",
    "fig,ax = execute_plot(plot_list,fig,ax)\n",
    "print(\"MNIST\")\n",
    "plt.tight_layout()\n",
    "plt.savefig(osp.join(out_dir, \"mnist.pdf\"))\n",
    "plt.show()"
   ]
  },
  {
   "attachments": {},
   "cell_type": "markdown",
   "metadata": {},
   "source": [
    "# OOD Ratio"
   ]
  },
  {
   "cell_type": "code",
   "execution_count": null,
   "metadata": {},
   "outputs": [],
   "source": [
    "rolling_size = 5\n",
    "random_res = execute_df_rollout(random_dfs, rolling_size=rolling_size,metric=\"label_-1_ratio\")\n",
    "bald_res = execute_df_rollout(bald_dfs, rolling_size=rolling_size,metric=\"label_-1_ratio\")\n",
    "pnml_res = execute_df_rollout(pnml_dfs, rolling_size=rolling_size,metric=\"label_-1_ratio\")\n",
    "kmean_res = execute_df_rollout(kmean_dfs, rolling_size=rolling_size,metric=\"label_-1_ratio\")\n",
    "plot_list = [\n",
    "    (random_res, \"Random\"),\n",
    "    (bald_res, \"Bald\"),\n",
    "    (kmean_res, \"Core-set\"),\n",
    "    (pnml_res, \"DIAL\"),\n",
    "]\n",
    "\n",
    "fig, ax = plt.subplots(1, 1, dpi=100, figsize=(4 , 3 ))\n",
    "fig, ax = execute_plot(plot_list, fig, ax)\n",
    "ax.set_xlim(right=5000)\n",
    "ax.set_ylabel('OOD to training ratio')\n",
    "ax.get_legend().remove()\n",
    "print(\"MNIST OOD\")\n",
    "plt.tight_layout()\n",
    "plt.savefig(osp.join(out_dir, \"mnist_ood_ratio.pdf\"))\n",
    "plt.show()"
   ]
  },
  {
   "cell_type": "code",
   "execution_count": null,
   "metadata": {},
   "outputs": [],
   "source": []
  }
 ],
 "metadata": {
  "kernelspec": {
   "display_name": "Python 3.9.12 ('pnml_for_active_learning')",
   "language": "python",
   "name": "python3"
  },
  "language_info": {
   "codemirror_mode": {
    "name": "ipython",
    "version": 3
   },
   "file_extension": ".py",
   "mimetype": "text/x-python",
   "name": "python",
   "nbconvert_exporter": "python",
   "pygments_lexer": "ipython3",
   "version": "3.9.12"
  },
  "orig_nbformat": 4,
  "vscode": {
   "interpreter": {
    "hash": "06254c6fe7cee99f33109a01d5d0014bad3e57fbafb604958588f190423760ce"
   }
  }
 },
 "nbformat": 4,
 "nbformat_minor": 2
}
