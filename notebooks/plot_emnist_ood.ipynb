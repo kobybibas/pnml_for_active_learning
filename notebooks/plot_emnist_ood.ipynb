{
 "cells": [
  {
   "cell_type": "code",
   "execution_count": 1,
   "metadata": {},
   "outputs": [],
   "source": [
    "%load_ext autoreload\n",
    "%autoreload 2\n",
    "\n",
    "import os\n",
    "import os.path as osp\n",
    "import sys\n",
    "\n",
    "import matplotlib\n",
    "import matplotlib.pyplot as plt\n",
    "import numpy as np\n",
    "import pandas as pd\n",
    "import wandb\n",
    "\n",
    "sys.path.append(\"../src\")\n",
    "\n",
    "from plot_utils import process_results, execute_df_rollout,execute_plot, find_max_train_save\n",
    "\n",
    "api = wandb.Api(\n",
    "    overrides={\"entity\": \"kobybibas\", \"project\": \"pnml_for_active_learning\"}\n",
    ")\n",
    "out_dir = \"../outputs/analysis\"\n",
    "os.makedirs(out_dir, exist_ok=True)\n",
    "\n",
    "# Project is specified by\n",
    "runs = api.runs(\"kobybibas/pnml_for_active_learning\")\n"
   ]
  },
  {
   "cell_type": "code",
   "execution_count": 2,
   "metadata": {},
   "outputs": [
    {
     "name": "stdout",
     "output_type": "stream",
     "text": [
      "\u001b[34m\u001b[1mwandb\u001b[0m: Currently logged in as: \u001b[33mkobybibas\u001b[0m. Use \u001b[1m`wandb login --relogin`\u001b[0m to force relogin\n"
     ]
    }
   ],
   "source": [
    "! wandb login"
   ]
  },
  {
   "cell_type": "code",
   "execution_count": 8,
   "metadata": {},
   "outputs": [
    {
     "name": "stdout",
     "output_type": "stream",
     "text": [
      "kobybibas/pnml_for_active_learning/2fafuyfd\n",
      "Index(['_step', 'training_set_size', 'test_acc', 'test_loss'], dtype='object')\n",
      "kobybibas/pnml_for_active_learning/2omu5s0f\n",
      "Index(['_step', 'training_set_size', 'test_acc', 'test_loss'], dtype='object')\n",
      "kobybibas/pnml_for_active_learning/2ouexbd0\n",
      "Index(['_step', 'training_set_size', 'test_acc', 'test_loss'], dtype='object')\n",
      "kobybibas/pnml_for_active_learning/1pik2x1e\n",
      "Index(['_step', 'training_set_size', 'test_acc', 'test_loss'], dtype='object')\n",
      "kobybibas/pnml_for_active_learning/lamt1no9\n",
      "Index(['_step', 'training_set_size', 'test_acc', 'test_loss'], dtype='object')\n",
      "kobybibas/pnml_for_active_learning/1mrnydlf\n",
      "Index(['_step', 'training_set_size', 'test_acc', 'test_loss'], dtype='object')\n",
      "kobybibas/pnml_for_active_learning/3dowhzcw\n",
      "Index(['_step', 'training_set_size', 'test_acc', 'test_loss'], dtype='object')\n",
      "kobybibas/pnml_for_active_learning/3q4i00ny\n",
      "Index(['_step', 'training_set_size', 'test_acc', 'test_loss'], dtype='object')\n",
      "kobybibas/pnml_for_active_learning/2tghe9mz\n",
      "Index(['_step', 'training_set_size', 'test_acc', 'test_loss'], dtype='object')\n",
      "kobybibas/pnml_for_active_learning/1brixcy5\n",
      "Index(['_step', 'training_set_size', 'test_acc', 'test_loss'], dtype='object')\n",
      "kobybibas/pnml_for_active_learning/35xkjwu0\n",
      "Index(['_step', 'training_set_size', 'test_acc', 'test_loss'], dtype='object')\n",
      "kobybibas/pnml_for_active_learning/3brs09kl\n",
      "Index(['_step', 'training_set_size', 'test_acc', 'test_loss'], dtype='object')\n",
      "kobybibas/pnml_for_active_learning/3iymd7uz\n",
      "Index(['_step', 'training_set_size', 'test_acc', 'test_loss'], dtype='object')\n",
      "kobybibas/pnml_for_active_learning/ptyiq2cb\n",
      "Index(['_step', 'training_set_size', 'test_acc', 'test_loss'], dtype='object')\n",
      "kobybibas/pnml_for_active_learning/jqmukw4a\n",
      "Index(['_step', 'training_set_size', 'test_acc', 'test_loss'], dtype='object')\n",
      "kobybibas/pnml_for_active_learning/2vmj3i26\n",
      "Index(['_step', 'training_set_size', 'test_acc', 'test_loss'], dtype='object')\n",
      "kobybibas/pnml_for_active_learning/1qyws58i\n",
      "Index(['_step', 'training_set_size', 'test_acc', 'test_loss'], dtype='object')\n",
      "kobybibas/pnml_for_active_learning/1dqp2aks\n",
      "Index(['_step', 'training_set_size', 'test_acc', 'test_loss'], dtype='object')\n",
      "kobybibas/pnml_for_active_learning/2uwy04c6\n",
      "Index([], dtype='object')\n"
     ]
    },
    {
     "ename": "KeyError",
     "evalue": "'training_set_size'",
     "output_type": "error",
     "traceback": [
      "\u001b[0;31m---------------------------------------------------------------------------\u001b[0m",
      "\u001b[0;31mKeyError\u001b[0m                                  Traceback (most recent call last)",
      "\u001b[1;32m/home/ubuntu/pnml_for_active_learning/notebooks/plot_emnist_ood.ipynb Cell 3\u001b[0m in \u001b[0;36m<cell line: 47>\u001b[0;34m()\u001b[0m\n\u001b[1;32m     <a href='vscode-notebook-cell://ssh-remote%2Bec2/home/ubuntu/pnml_for_active_learning/notebooks/plot_emnist_ood.ipynb#W2sdnNjb2RlLXJlbW90ZQ%3D%3D?line=44'>45</a>\u001b[0m bald_dfs \u001b[39m=\u001b[39m process_results(api\u001b[39m=\u001b[39mapi, run_list\u001b[39m=\u001b[39mbald_runs, use_ood\u001b[39m=\u001b[39m\u001b[39mFalse\u001b[39;00m)\n\u001b[1;32m     <a href='vscode-notebook-cell://ssh-remote%2Bec2/home/ubuntu/pnml_for_active_learning/notebooks/plot_emnist_ood.ipynb#W2sdnNjb2RlLXJlbW90ZQ%3D%3D?line=45'>46</a>\u001b[0m kmean_dfs \u001b[39m=\u001b[39m process_results(api\u001b[39m=\u001b[39mapi,run_list\u001b[39m=\u001b[39mkmean_runs, use_ood\u001b[39m=\u001b[39m\u001b[39mFalse\u001b[39;00m)\n\u001b[0;32m---> <a href='vscode-notebook-cell://ssh-remote%2Bec2/home/ubuntu/pnml_for_active_learning/notebooks/plot_emnist_ood.ipynb#W2sdnNjb2RlLXJlbW90ZQ%3D%3D?line=46'>47</a>\u001b[0m epig_dfs \u001b[39m=\u001b[39m process_results(api\u001b[39m=\u001b[39;49mapi,run_list\u001b[39m=\u001b[39;49mepig_runs, use_ood\u001b[39m=\u001b[39;49m\u001b[39mFalse\u001b[39;49;00m)\n\u001b[1;32m     <a href='vscode-notebook-cell://ssh-remote%2Bec2/home/ubuntu/pnml_for_active_learning/notebooks/plot_emnist_ood.ipynb#W2sdnNjb2RlLXJlbW90ZQ%3D%3D?line=47'>48</a>\u001b[0m pnml_dfs \u001b[39m=\u001b[39m process_results(api\u001b[39m=\u001b[39mapi, run_list\u001b[39m=\u001b[39mpnml_runs, use_ood\u001b[39m=\u001b[39m\u001b[39mFalse\u001b[39;00m)\n",
      "File \u001b[0;32m~/pnml_for_active_learning/notebooks/../src/plot_utils.py:20\u001b[0m, in \u001b[0;36mprocess_results\u001b[0;34m(run_list, api, use_ood)\u001b[0m\n\u001b[1;32m     18\u001b[0m     \u001b[39m# df.dropna().sort_values(by=\"training_set_size\").set_index(\"training_set_size\")\u001b[39;00m\n\u001b[1;32m     19\u001b[0m     \u001b[39mprint\u001b[39m(df\u001b[39m.\u001b[39mkeys())\n\u001b[0;32m---> 20\u001b[0m     df\u001b[39m.\u001b[39;49mdropna()\u001b[39m.\u001b[39;49msort_values(by\u001b[39m=\u001b[39;49m\u001b[39m\"\u001b[39;49m\u001b[39mtraining_set_size\u001b[39;49m\u001b[39m\"\u001b[39;49m)\u001b[39m.\u001b[39mset_index(\u001b[39m\"\u001b[39m\u001b[39mtraining_set_size\u001b[39m\u001b[39m\"\u001b[39m)\n\u001b[1;32m     21\u001b[0m     dfs\u001b[39m.\u001b[39mappend(df)\n\u001b[1;32m     23\u001b[0m \u001b[39mreturn\u001b[39;00m dfs\n",
      "File \u001b[0;32m~/anaconda3/envs/pnml_for_active_learning/lib/python3.9/site-packages/pandas/util/_decorators.py:311\u001b[0m, in \u001b[0;36mdeprecate_nonkeyword_arguments.<locals>.decorate.<locals>.wrapper\u001b[0;34m(*args, **kwargs)\u001b[0m\n\u001b[1;32m    305\u001b[0m \u001b[39mif\u001b[39;00m \u001b[39mlen\u001b[39m(args) \u001b[39m>\u001b[39m num_allow_args:\n\u001b[1;32m    306\u001b[0m     warnings\u001b[39m.\u001b[39mwarn(\n\u001b[1;32m    307\u001b[0m         msg\u001b[39m.\u001b[39mformat(arguments\u001b[39m=\u001b[39marguments),\n\u001b[1;32m    308\u001b[0m         \u001b[39mFutureWarning\u001b[39;00m,\n\u001b[1;32m    309\u001b[0m         stacklevel\u001b[39m=\u001b[39mstacklevel,\n\u001b[1;32m    310\u001b[0m     )\n\u001b[0;32m--> 311\u001b[0m \u001b[39mreturn\u001b[39;00m func(\u001b[39m*\u001b[39;49margs, \u001b[39m*\u001b[39;49m\u001b[39m*\u001b[39;49mkwargs)\n",
      "File \u001b[0;32m~/anaconda3/envs/pnml_for_active_learning/lib/python3.9/site-packages/pandas/core/frame.py:6313\u001b[0m, in \u001b[0;36mDataFrame.sort_values\u001b[0;34m(self, by, axis, ascending, inplace, kind, na_position, ignore_index, key)\u001b[0m\n\u001b[1;32m   6309\u001b[0m \u001b[39melif\u001b[39;00m \u001b[39mlen\u001b[39m(by):\n\u001b[1;32m   6310\u001b[0m     \u001b[39m# len(by) == 1\u001b[39;00m\n\u001b[1;32m   6312\u001b[0m     by \u001b[39m=\u001b[39m by[\u001b[39m0\u001b[39m]\n\u001b[0;32m-> 6313\u001b[0m     k \u001b[39m=\u001b[39m \u001b[39mself\u001b[39;49m\u001b[39m.\u001b[39;49m_get_label_or_level_values(by, axis\u001b[39m=\u001b[39;49maxis)\n\u001b[1;32m   6315\u001b[0m     \u001b[39m# need to rewrap column in Series to apply key function\u001b[39;00m\n\u001b[1;32m   6316\u001b[0m     \u001b[39mif\u001b[39;00m key \u001b[39mis\u001b[39;00m \u001b[39mnot\u001b[39;00m \u001b[39mNone\u001b[39;00m:\n\u001b[1;32m   6317\u001b[0m         \u001b[39m# error: Incompatible types in assignment (expression has type\u001b[39;00m\n\u001b[1;32m   6318\u001b[0m         \u001b[39m# \"Series\", variable has type \"ndarray\")\u001b[39;00m\n",
      "File \u001b[0;32m~/anaconda3/envs/pnml_for_active_learning/lib/python3.9/site-packages/pandas/core/generic.py:1840\u001b[0m, in \u001b[0;36mNDFrame._get_label_or_level_values\u001b[0;34m(self, key, axis)\u001b[0m\n\u001b[1;32m   1838\u001b[0m     values \u001b[39m=\u001b[39m \u001b[39mself\u001b[39m\u001b[39m.\u001b[39maxes[axis]\u001b[39m.\u001b[39mget_level_values(key)\u001b[39m.\u001b[39m_values\n\u001b[1;32m   1839\u001b[0m \u001b[39melse\u001b[39;00m:\n\u001b[0;32m-> 1840\u001b[0m     \u001b[39mraise\u001b[39;00m \u001b[39mKeyError\u001b[39;00m(key)\n\u001b[1;32m   1842\u001b[0m \u001b[39m# Check for duplicates\u001b[39;00m\n\u001b[1;32m   1843\u001b[0m \u001b[39mif\u001b[39;00m values\u001b[39m.\u001b[39mndim \u001b[39m>\u001b[39m \u001b[39m1\u001b[39m:\n",
      "\u001b[0;31mKeyError\u001b[0m: 'training_set_size'"
     ]
    }
   ],
   "source": [
    "random_runs = [\n",
    "    \"kobybibas/pnml_for_active_learning/2fafuyfd\",\n",
    "    \"kobybibas/pnml_for_active_learning/2omu5s0f\",\n",
    "    \"kobybibas/pnml_for_active_learning/2ouexbd0\",\n",
    "    \"kobybibas/pnml_for_active_learning/1pik2x1e\",\n",
    "    \"kobybibas/pnml_for_active_learning/lamt1no9\",\n",
    "    \"kobybibas/pnml_for_active_learning/1mrnydlf\",\n",
    "]\n",
    "bald_runs = [\n",
    "    \"kobybibas/pnml_for_active_learning/3dowhzcw\",\n",
    "    \"kobybibas/pnml_for_active_learning/3q4i00ny\",\n",
    "    \"kobybibas/pnml_for_active_learning/2tghe9mz\",\n",
    "    \"kobybibas/pnml_for_active_learning/1brixcy5\",\n",
    "    \"kobybibas/pnml_for_active_learning/35xkjwu0\",\n",
    "    \"kobybibas/pnml_for_active_learning/3brs09kl\",\n",
    "]\n",
    "\n",
    "kmean_runs = [\n",
    "    'kobybibas/pnml_for_active_learning/3iymd7uz',\n",
    "    'kobybibas/pnml_for_active_learning/ptyiq2cb',\n",
    "    'kobybibas/pnml_for_active_learning/jqmukw4a',\n",
    "    'kobybibas/pnml_for_active_learning/2vmj3i26',\n",
    "    'kobybibas/pnml_for_active_learning/1qyws58i',\n",
    "    'kobybibas/pnml_for_active_learning/1dqp2aks'\n",
    "]\n",
    "\n",
    "epig_runs = [\n",
    "    # 'kobybibas/pnml_for_active_learning/3ot04wm1',\n",
    "    # 'kobybibas/pnml_for_active_learning/2r2v7k75',\n",
    "    # 'kobybibas/pnml_for_active_learning/8qc8mf8s',\n",
    "    # 'kobybibas/pnml_for_active_learning/1rbpk6yu',\n",
    "    'kobybibas/pnml_for_active_learning/2uwy04c6',\n",
    "    'kobybibas/pnml_for_active_learning/2spnynmw'\n",
    "]\n",
    "\n",
    "pnml_runs = [ \n",
    "    'kobybibas/pnml_for_active_learning/1xpj5olh',\n",
    "    'kobybibas/pnml_for_active_learning/2ilnc6yz',\n",
    "    'kobybibas/pnml_for_active_learning/h4wwk1yd',\n",
    "    'kobybibas/pnml_for_active_learning/rxhgiqpj',\n",
    "    'kobybibas/pnml_for_active_learning/251lciqn'\n",
    "]\n",
    "\n",
    "random_dfs = process_results(api=api, run_list=random_runs, use_ood=False)\n",
    "bald_dfs = process_results(api=api, run_list=bald_runs, use_ood=False)\n",
    "kmean_dfs = process_results(api=api,run_list=kmean_runs, use_ood=False)\n",
    "epig_dfs = process_results(api=api,run_list=epig_runs, use_ood=False)\n",
    "pnml_dfs = process_results(api=api, run_list=pnml_runs, use_ood=False)"
   ]
  },
  {
   "cell_type": "code",
   "execution_count": null,
   "metadata": {},
   "outputs": [],
   "source": [
    "rolling_size = 4\n",
    "random_res = execute_df_rollout(random_dfs, rolling_size=rolling_size)\n",
    "bald_res = execute_df_rollout(bald_dfs, rolling_size=rolling_size)\n",
    "kmean_res = execute_df_rollout(kmean_dfs,rolling_size=rolling_size)\n",
    "epig_res = execute_df_rollout(epig_dfs, rolling_size=rolling_size)\n",
    "pnml_res = execute_df_rollout(pnml_dfs, rolling_size=rolling_size)\n",
    "plot_list = [(random_res, \"Random\"), (bald_res, \"Bald\"), (kmean_res, 'Core-set'),(epig_res, 'EPIG'),(pnml_res, \"DIAL\")]"
   ]
  },
  {
   "cell_type": "code",
   "execution_count": null,
   "metadata": {},
   "outputs": [
    {
     "name": "stdout",
     "output_type": "stream",
     "text": [
      "89.01734104046243\n",
      "training_set_size_left     308.000000\n",
      "test_acc_left                0.536880\n",
      "test_acc_round               0.537000\n",
      "training_set_size_right    346.000000\n",
      "test_acc_right               0.537212\n",
      "Name: 313, dtype: float64\n"
     ]
    }
   ],
   "source": [
    "row = find_max_train_save(pnml_res, bald_res)\n",
    "print(100 * row.training_set_size_left / row.training_set_size_right)\n",
    "print(row)"
   ]
  },
  {
   "cell_type": "code",
   "execution_count": null,
   "metadata": {},
   "outputs": [
    {
     "name": "stdout",
     "output_type": "stream",
     "text": [
      "EMNIST OOD\n"
     ]
    },
    {
     "data": {
      "image/png": "[encoded data removed]",
      "text/plain": [
       "<Figure size 400x300 with 1 Axes>"
      ]
     },
     "metadata": {
      "needs_background": "light"
     },
     "output_type": "display_data"
    }
   ],
   "source": [
    "plt.style.use([\"science\", \"bright\", \"no-latex\"])\n",
    "fig, ax = plt.subplots(1, 1, dpi=100, figsize=(4, 3))\n",
    "fig, ax = execute_plot(plot_list, fig, ax)\n",
    "print(\"EMNIST OOD\")\n",
    "ax.get_legend().remove()\n",
    "ax.set_xlim(40, 340)\n",
    "plt.tight_layout()\n",
    "plt.savefig(osp.join(out_dir, \"emnist_ood.pdf\"))\n",
    "plt.show()"
   ]
  },
  {
   "cell_type": "code",
   "execution_count": null,
   "metadata": {},
   "outputs": [
    {
     "name": "stdout",
     "output_type": "stream",
     "text": [
      "Random\n",
      "0.4\t 281\n",
      "0.3\t 140\n",
      "0.25\t 80\n",
      "Bald\n",
      "0.4\t 154\n",
      "0.3\t 85\n",
      "0.25\t 59\n",
      "Core-set\n",
      "0.4\t 221\n",
      "0.3\t 96\n",
      "0.25\t 62\n",
      "DIAL\n",
      "0.4\t 138\n",
      "0.3\t 84\n",
      "0.25\t 59\n"
     ]
    }
   ],
   "source": [
    "eps = 0.01\n",
    "acc_values = [0.4, 0.3,0.25]\n",
    "for dict_df, method in plot_list:\n",
    "    print(method)\n",
    "    df = dict_df['mean']\n",
    "\n",
    "    for acc in acc_values:\n",
    "        print(f'{acc}\\t {df[(df > acc - eps ) & (df <= acc )].index[0]}')"
   ]
  },
  {
   "cell_type": "code",
   "execution_count": null,
   "metadata": {},
   "outputs": [
    {
     "name": "stdout",
     "output_type": "stream",
     "text": [
      "[0.40026666666666666, 0.513925, 0.42953749999999996, 0.529855]\n"
     ]
    }
   ],
   "source": [
    "print([plot_list[i][0]['mean'].loc[300] for  i in range(len(plot_list))])"
   ]
  },
  {
   "cell_type": "code",
   "execution_count": null,
   "metadata": {},
   "outputs": [
    {
     "name": "stdout",
     "output_type": "stream",
     "text": [
      "Random\n",
      "Bald\n",
      "Core-set\n",
      "DIAL\n"
     ]
    }
   ],
   "source": [
    "eps = 0.01\n",
    "acc_values = [0.65]\n",
    "for dict_df, method in plot_list:\n",
    "    print(method)\n",
    "    df = dict_df['mean']\n",
    "    try:\n",
    "        for acc in acc_values:\n",
    "            print(f'{acc}\\t {df[(df > acc - eps ) & (df <= acc )].index[0]}')\n",
    "    except:\n",
    "        pass"
   ]
  },
  {
   "cell_type": "code",
   "execution_count": null,
   "metadata": {},
   "outputs": [],
   "source": []
  }
 ],
 "metadata": {
  "kernelspec": {
   "display_name": "Python 3.9.12 ('pnml_for_active_learning')",
   "language": "python",
   "name": "python3"
  },
  "language_info": {
   "codemirror_mode": {
    "name": "ipython",
    "version": 3
   },
   "file_extension": ".py",
   "mimetype": "text/x-python",
   "name": "python",
   "nbconvert_exporter": "python",
   "pygments_lexer": "ipython3",
   "version": "3.9.12"
  },
  "orig_nbformat": 4,
  "vscode": {
   "interpreter": {
    "hash": "06254c6fe7cee99f33109a01d5d0014bad3e57fbafb604958588f190423760ce"
   }
  }
 },
 "nbformat": 4,
 "nbformat_minor": 2
}
