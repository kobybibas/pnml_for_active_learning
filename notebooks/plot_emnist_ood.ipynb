{
 "cells": [
  {
   "cell_type": "code",
   "execution_count": 2,
   "metadata": {},
   "outputs": [
    {
     "name": "stdout",
     "output_type": "stream",
     "text": [
      "The autoreload extension is already loaded. To reload it, use:\n",
      "  %reload_ext autoreload\n"
     ]
    }
   ],
   "source": [
    "%load_ext autoreload\n",
    "%autoreload 2\n",
    "\n",
    "import os\n",
    "import os.path as osp\n",
    "import sys\n",
    "\n",
    "import matplotlib\n",
    "import matplotlib.pyplot as plt\n",
    "import numpy as np\n",
    "import pandas as pd\n",
    "import wandb\n",
    "\n",
    "sys.path.append(\"../src\")\n",
    "\n",
    "from plot_utils import process_results, execute_df_rollout,execute_plot, find_max_train_save\n",
    "\n",
    "api = wandb.Api(\n",
    "    overrides={\"entity\": \"kobybibas\", \"project\": \"pnml_for_active_learning\"}\n",
    ")\n",
    "out_dir = \"../outputs/analysis\"\n",
    "os.makedirs(out_dir, exist_ok=True)\n",
    "\n",
    "# Project is specified by\n",
    "runs = api.runs(\"kobybibas/pnml_for_active_learning\")\n"
   ]
  },
  {
   "cell_type": "code",
   "execution_count": 3,
   "metadata": {},
   "outputs": [
    {
     "name": "stdout",
     "output_type": "stream",
     "text": [
      "\u001b[34m\u001b[1mwandb\u001b[0m: Currently logged in as: \u001b[33mkobybibas\u001b[0m. Use \u001b[1m`wandb login --relogin`\u001b[0m to force relogin\n"
     ]
    }
   ],
   "source": [
    "! wandb login"
   ]
  },
  {
   "cell_type": "code",
   "execution_count": 4,
   "metadata": {},
   "outputs": [
    {
     "name": "stdout",
     "output_type": "stream",
     "text": [
      "kobybibas/pnml_for_active_learning/2fafuyfd\n",
      "Index(['_step', 'training_set_size', 'test_acc', 'test_loss'], dtype='object')\n",
      "kobybibas/pnml_for_active_learning/2omu5s0f\n",
      "Index(['_step', 'training_set_size', 'test_acc', 'test_loss'], dtype='object')\n",
      "kobybibas/pnml_for_active_learning/2ouexbd0\n",
      "Index(['_step', 'training_set_size', 'test_acc', 'test_loss'], dtype='object')\n",
      "kobybibas/pnml_for_active_learning/1pik2x1e\n",
      "Index(['_step', 'training_set_size', 'test_acc', 'test_loss'], dtype='object')\n",
      "kobybibas/pnml_for_active_learning/lamt1no9\n",
      "Index(['_step', 'training_set_size', 'test_acc', 'test_loss'], dtype='object')\n",
      "kobybibas/pnml_for_active_learning/1mrnydlf\n",
      "Index(['_step', 'training_set_size', 'test_acc', 'test_loss'], dtype='object')\n",
      "kobybibas/pnml_for_active_learning/3dowhzcw\n",
      "Index(['_step', 'training_set_size', 'test_acc', 'test_loss'], dtype='object')\n",
      "kobybibas/pnml_for_active_learning/3q4i00ny\n",
      "Index(['_step', 'training_set_size', 'test_acc', 'test_loss'], dtype='object')\n",
      "kobybibas/pnml_for_active_learning/2tghe9mz\n",
      "Index(['_step', 'training_set_size', 'test_acc', 'test_loss'], dtype='object')\n",
      "kobybibas/pnml_for_active_learning/1brixcy5\n",
      "Index(['_step', 'training_set_size', 'test_acc', 'test_loss'], dtype='object')\n",
      "kobybibas/pnml_for_active_learning/35xkjwu0\n",
      "Index(['_step', 'training_set_size', 'test_acc', 'test_loss'], dtype='object')\n",
      "kobybibas/pnml_for_active_learning/3brs09kl\n",
      "Index(['_step', 'training_set_size', 'test_acc', 'test_loss'], dtype='object')\n",
      "kobybibas/pnml_for_active_learning/3iymd7uz\n",
      "Index(['_step', 'training_set_size', 'test_acc', 'test_loss'], dtype='object')\n",
      "kobybibas/pnml_for_active_learning/ptyiq2cb\n",
      "Index(['_step', 'training_set_size', 'test_acc', 'test_loss'], dtype='object')\n",
      "kobybibas/pnml_for_active_learning/jqmukw4a\n",
      "Index(['_step', 'training_set_size', 'test_acc', 'test_loss'], dtype='object')\n",
      "kobybibas/pnml_for_active_learning/2vmj3i26\n",
      "Index(['_step', 'training_set_size', 'test_acc', 'test_loss'], dtype='object')\n",
      "kobybibas/pnml_for_active_learning/1qyws58i\n",
      "Index(['_step', 'training_set_size', 'test_acc', 'test_loss'], dtype='object')\n",
      "kobybibas/pnml_for_active_learning/1dqp2aks\n",
      "Index(['_step', 'training_set_size', 'test_acc', 'test_loss'], dtype='object')\n",
      "kobybibas/pnml_for_active_learning/3c7cwjpa\n",
      "Index(['_step', 'training_set_size', 'test_acc', 'test_loss'], dtype='object')\n",
      "kobybibas/pnml_for_active_learning/3rx5ri98\n",
      "Index(['_step', 'training_set_size', 'test_acc', 'test_loss'], dtype='object')\n",
      "kobybibas/pnml_for_active_learning/2jb6btip\n",
      "Index(['_step', 'training_set_size', 'test_acc', 'test_loss'], dtype='object')\n",
      "kobybibas/pnml_for_active_learning/ljh5zcgb\n",
      "Index(['_step', 'training_set_size', 'test_acc', 'test_loss'], dtype='object')\n",
      "kobybibas/pnml_for_active_learning/1g8k01tm\n",
      "Index(['_step', 'training_set_size', 'test_acc', 'test_loss'], dtype='object')\n",
      "kobybibas/pnml_for_active_learning/1xpj5olh\n",
      "Index(['_step', 'training_set_size', 'test_acc', 'test_loss'], dtype='object')\n",
      "kobybibas/pnml_for_active_learning/2ilnc6yz\n",
      "Index(['_step', 'training_set_size', 'test_acc', 'test_loss'], dtype='object')\n",
      "kobybibas/pnml_for_active_learning/h4wwk1yd\n",
      "Index(['_step', 'training_set_size', 'test_acc', 'test_loss'], dtype='object')\n",
      "kobybibas/pnml_for_active_learning/rxhgiqpj\n",
      "Index(['_step', 'training_set_size', 'test_acc', 'test_loss'], dtype='object')\n",
      "kobybibas/pnml_for_active_learning/251lciqn\n",
      "Index(['_step', 'training_set_size', 'test_acc', 'test_loss'], dtype='object')\n"
     ]
    }
   ],
   "source": [
    "random_runs = [\n",
    "    \"kobybibas/pnml_for_active_learning/2fafuyfd\",\n",
    "    \"kobybibas/pnml_for_active_learning/2omu5s0f\",\n",
    "    \"kobybibas/pnml_for_active_learning/2ouexbd0\",\n",
    "    \"kobybibas/pnml_for_active_learning/1pik2x1e\",\n",
    "    \"kobybibas/pnml_for_active_learning/lamt1no9\",\n",
    "    \"kobybibas/pnml_for_active_learning/1mrnydlf\",\n",
    "]\n",
    "bald_runs = [\n",
    "    \"kobybibas/pnml_for_active_learning/3dowhzcw\",\n",
    "    \"kobybibas/pnml_for_active_learning/3q4i00ny\",\n",
    "    \"kobybibas/pnml_for_active_learning/2tghe9mz\",\n",
    "    \"kobybibas/pnml_for_active_learning/1brixcy5\",\n",
    "    \"kobybibas/pnml_for_active_learning/35xkjwu0\",\n",
    "    \"kobybibas/pnml_for_active_learning/3brs09kl\",\n",
    "]\n",
    "\n",
    "kmean_runs = [\n",
    "    \"kobybibas/pnml_for_active_learning/3iymd7uz\",\n",
    "    \"kobybibas/pnml_for_active_learning/ptyiq2cb\",\n",
    "    \"kobybibas/pnml_for_active_learning/jqmukw4a\",\n",
    "    \"kobybibas/pnml_for_active_learning/2vmj3i26\",\n",
    "    \"kobybibas/pnml_for_active_learning/1qyws58i\",\n",
    "    \"kobybibas/pnml_for_active_learning/1dqp2aks\",\n",
    "]\n",
    "\n",
    "epig_runs = [\n",
    "    \"kobybibas/pnml_for_active_learning/3c7cwjpa\",\n",
    "    \"kobybibas/pnml_for_active_learning/3rx5ri98\",\n",
    "    \"kobybibas/pnml_for_active_learning/2jb6btip\",\n",
    "    \"kobybibas/pnml_for_active_learning/ljh5zcgb\",\n",
    "    \"kobybibas/pnml_for_active_learning/1g8k01tm\",\n",
    "]\n",
    "\n",
    "pnml_runs = [\n",
    "    \"kobybibas/pnml_for_active_learning/1xpj5olh\",\n",
    "    \"kobybibas/pnml_for_active_learning/2ilnc6yz\",\n",
    "    \"kobybibas/pnml_for_active_learning/h4wwk1yd\",\n",
    "    \"kobybibas/pnml_for_active_learning/rxhgiqpj\",\n",
    "    \"kobybibas/pnml_for_active_learning/251lciqn\",\n",
    "]\n",
    "\n",
    "random_dfs = process_results(api=api, run_list=random_runs, use_ood=False)\n",
    "bald_dfs = process_results(api=api, run_list=bald_runs, use_ood=False)\n",
    "kmean_dfs = process_results(api=api, run_list=kmean_runs, use_ood=False)\n",
    "epig_dfs = process_results(api=api, run_list=epig_runs, use_ood=False)\n",
    "pnml_dfs = process_results(api=api, run_list=pnml_runs, use_ood=False)"
   ]
  },
  {
   "cell_type": "code",
   "execution_count": 5,
   "metadata": {},
   "outputs": [],
   "source": [
    "rolling_size = 4\n",
    "random_res = execute_df_rollout(random_dfs, rolling_size=rolling_size)\n",
    "bald_res = execute_df_rollout(bald_dfs, rolling_size=rolling_size)\n",
    "kmean_res = execute_df_rollout(kmean_dfs, rolling_size=rolling_size)\n",
    "epig_res = execute_df_rollout(epig_dfs, rolling_size=rolling_size)\n",
    "pnml_res = execute_df_rollout(pnml_dfs, rolling_size=rolling_size)\n",
    "plot_list = [\n",
    "    (random_res, \"Random\"),\n",
    "    (bald_res, \"Bald\"),\n",
    "    (kmean_res, \"Core-set\"),\n",
    "    (epig_res, \"EPIG (UAL)\"),\n",
    "    (pnml_res, \"DIAL\"),\n",
    "]"
   ]
  },
  {
   "cell_type": "code",
   "execution_count": 6,
   "metadata": {},
   "outputs": [
    {
     "name": "stdout",
     "output_type": "stream",
     "text": [
      "89.01734104046243\n",
      "training_set_size_left     308.000000\n",
      "test_acc_left                0.536880\n",
      "test_acc_round               0.537000\n",
      "training_set_size_right    346.000000\n",
      "test_acc_right               0.537212\n",
      "Name: 313, dtype: float64\n"
     ]
    }
   ],
   "source": [
    "row = find_max_train_save(pnml_res, bald_res)\n",
    "print(100 * row.training_set_size_left / row.training_set_size_right)\n",
    "print(row)\n"
   ]
  },
  {
   "cell_type": "code",
   "execution_count": 7,
   "metadata": {},
   "outputs": [
    {
     "name": "stdout",
     "output_type": "stream",
     "text": [
      "Random\n",
      "Bald\n",
      "Core-set\n",
      "EPIG\n",
      "DIAL\n",
      "EMNIST OOD\n"
     ]
    },
    {
     "data": {
      "image/png": "[encoded data removed]",
      "text/plain": [
       "<Figure size 400x300 with 1 Axes>"
      ]
     },
     "metadata": {
      "needs_background": "light"
     },
     "output_type": "display_data"
    }
   ],
   "source": [
    "plt.style.use([\"science\", \"bright\", \"no-latex\"])\n",
    "fig, ax = plt.subplots(1, 1, dpi=100, figsize=(4, 3))\n",
    "fig, ax = execute_plot(plot_list, fig, ax)\n",
    "print(\"EMNIST OOD\")\n",
    "# ax.get_legend().remove()\n",
    "ax.set_xlim(40, 340)\n",
    "plt.tight_layout()\n",
    "plt.savefig(osp.join(out_dir, \"emnist_ood.pdf\"))\n",
    "plt.show()\n"
   ]
  },
  {
   "cell_type": "code",
   "execution_count": 8,
   "metadata": {},
   "outputs": [
    {
     "name": "stdout",
     "output_type": "stream",
     "text": [
      "Random\n",
      "0.4\t 281\n",
      "0.3\t 140\n",
      "0.25\t 80\n",
      "Bald\n",
      "0.4\t 154\n",
      "0.3\t 85\n",
      "0.25\t 59\n",
      "Core-set\n",
      "0.4\t 221\n",
      "0.3\t 96\n",
      "0.25\t 62\n",
      "EPIG\n",
      "0.4\t 157\n",
      "0.3\t 84\n",
      "0.25\t 59\n",
      "DIAL\n",
      "0.4\t 138\n",
      "0.3\t 84\n",
      "0.25\t 59\n"
     ]
    }
   ],
   "source": [
    "eps = 0.01\n",
    "acc_values = [0.4, 0.3, 0.25]\n",
    "for dict_df, method in plot_list:\n",
    "    print(method)\n",
    "    df = dict_df[\"mean\"]\n",
    "\n",
    "    for acc in acc_values:\n",
    "        print(f\"{acc}\\t {df[(df > acc - eps ) & (df <= acc )].index[0]}\")"
   ]
  },
  {
   "cell_type": "code",
   "execution_count": 9,
   "metadata": {},
   "outputs": [
    {
     "name": "stdout",
     "output_type": "stream",
     "text": [
      "[0.40026666666666666, 0.513925, 0.42953749999999996, 0.51471875, 0.529855]\n"
     ]
    }
   ],
   "source": [
    "print([plot_list[i][0][\"mean\"].loc[300] for i in range(len(plot_list))])"
   ]
  },
  {
   "cell_type": "code",
   "execution_count": 10,
   "metadata": {},
   "outputs": [
    {
     "name": "stdout",
     "output_type": "stream",
     "text": [
      "Random\n",
      "Bald\n",
      "Core-set\n",
      "EPIG\n",
      "DIAL\n"
     ]
    }
   ],
   "source": [
    "eps = 0.01\n",
    "acc_values = [0.65]\n",
    "for dict_df, method in plot_list:\n",
    "    print(method)\n",
    "    df = dict_df[\"mean\"]\n",
    "    try:\n",
    "        for acc in acc_values:\n",
    "            print(f\"{acc}\\t {df[(df > acc - eps ) & (df <= acc )].index[0]}\")\n",
    "    except:\n",
    "        pass"
   ]
  },
  {
   "cell_type": "code",
   "execution_count": null,
   "metadata": {},
   "outputs": [],
   "source": []
  }
 ],
 "metadata": {
  "kernelspec": {
   "display_name": "Python 3.9.12 ('pnml_for_active_learning')",
   "language": "python",
   "name": "python3"
  },
  "language_info": {
   "codemirror_mode": {
    "name": "ipython",
    "version": 3
   },
   "file_extension": ".py",
   "mimetype": "text/x-python",
   "name": "python",
   "nbconvert_exporter": "python",
   "pygments_lexer": "ipython3",
   "version": "3.9.12"
  },
  "orig_nbformat": 4,
  "vscode": {
   "interpreter": {
    "hash": "06254c6fe7cee99f33109a01d5d0014bad3e57fbafb604958588f190423760ce"
   }
  }
 },
 "nbformat": 4,
 "nbformat_minor": 2
}
