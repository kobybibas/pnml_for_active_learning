{
 "cells": [
  {
   "cell_type": "code",
   "execution_count": 2,
   "metadata": {},
   "outputs": [
    {
     "name": "stdout",
     "output_type": "stream",
     "text": [
      "The autoreload extension is already loaded. To reload it, use:\n",
      "  %reload_ext autoreload\n"
     ]
    }
   ],
   "source": [
    "%load_ext autoreload\n",
    "%autoreload 2\n",
    "\n",
    "import os\n",
    "import os.path as osp\n",
    "import sys\n",
    "\n",
    "import matplotlib\n",
    "import matplotlib.pyplot as plt\n",
    "import numpy as np\n",
    "import pandas as pd\n",
    "import wandb\n",
    "\n",
    "sys.path.append(\"../src\")\n",
    "\n",
    "from plot_utils import process_results, execute_df_rollout, execute_plot, find_max_train_save\n",
    "\n",
    "api = wandb.Api(\n",
    "    overrides={\"entity\": \"kobybibas\", \"project\": \"pnml_for_active_learning\"}\n",
    ")\n",
    "out_dir = \"../outputs/analysis\"\n",
    "os.makedirs(out_dir, exist_ok=True)\n",
    "\n",
    "# Project is specified by\n",
    "runs = api.runs(\"kobybibas/pnml_for_active_learning\")\n"
   ]
  },
  {
   "cell_type": "code",
   "execution_count": 3,
   "metadata": {},
   "outputs": [
    {
     "name": "stdout",
     "output_type": "stream",
     "text": [
      "\u001b[34m\u001b[1mwandb\u001b[0m: Currently logged in as: \u001b[33mkobybibas\u001b[0m. Use \u001b[1m`wandb login --relogin`\u001b[0m to force relogin\n"
     ]
    }
   ],
   "source": [
    "! wandb login"
   ]
  },
  {
   "cell_type": "code",
   "execution_count": 4,
   "metadata": {},
   "outputs": [
    {
     "name": "stdout",
     "output_type": "stream",
     "text": [
      "kobybibas/pnml_for_active_learning/2owqsr4v\n",
      "Index(['_step', 'training_set_size', 'test_acc', 'test_loss'], dtype='object')\n",
      "kobybibas/pnml_for_active_learning/3uv8qkzd\n",
      "Index(['_step', 'training_set_size', 'test_acc', 'test_loss'], dtype='object')\n",
      "kobybibas/pnml_for_active_learning/1awg0e6d\n",
      "Index(['_step', 'training_set_size', 'test_acc', 'test_loss'], dtype='object')\n",
      "kobybibas/pnml_for_active_learning/2uz3ccqp\n",
      "Index(['_step', 'training_set_size', 'test_acc', 'test_loss'], dtype='object')\n",
      "kobybibas/pnml_for_active_learning/nk46a46y\n",
      "Index(['_step', 'training_set_size', 'test_acc', 'test_loss'], dtype='object')\n",
      "kobybibas/pnml_for_active_learning/fix9x5qh\n",
      "Index(['_step', 'training_set_size', 'test_acc', 'test_loss'], dtype='object')\n",
      "kobybibas/pnml_for_active_learning/2ppejidh\n",
      "Index(['_step', 'training_set_size', 'test_acc', 'test_loss'], dtype='object')\n",
      "kobybibas/pnml_for_active_learning/1if8fe0k\n",
      "Index(['_step', 'training_set_size', 'test_acc', 'test_loss'], dtype='object')\n",
      "kobybibas/pnml_for_active_learning/2g6lp2nc\n",
      "Index(['_step', 'training_set_size', 'test_acc', 'test_loss'], dtype='object')\n",
      "kobybibas/pnml_for_active_learning/y8yn0f9e\n",
      "Index(['_step', 'training_set_size', 'test_acc', 'test_loss'], dtype='object')\n",
      "kobybibas/pnml_for_active_learning/3j1dp6wz\n",
      "Index(['_step', 'training_set_size', 'test_acc', 'test_loss'], dtype='object')\n",
      "kobybibas/pnml_for_active_learning/5t9zjpie\n",
      "Index(['_step', 'training_set_size', 'test_acc', 'test_loss'], dtype='object')\n",
      "kobybibas/pnml_for_active_learning/25oljj7j\n",
      "Index(['_step', 'training_set_size', 'test_acc', 'test_loss'], dtype='object')\n",
      "kobybibas/pnml_for_active_learning/4qktbvny\n",
      "Index(['_step', 'training_set_size', 'test_acc', 'test_loss'], dtype='object')\n",
      "kobybibas/pnml_for_active_learning/2toukhqc\n",
      "Index(['_step', 'training_set_size', 'test_acc', 'test_loss'], dtype='object')\n",
      "kobybibas/pnml_for_active_learning/1eywn2fv\n",
      "Index(['_step', 'training_set_size', 'test_acc', 'test_loss'], dtype='object')\n",
      "kobybibas/pnml_for_active_learning/18vb8gcm\n",
      "Index(['_step', 'training_set_size', 'test_acc', 'test_loss'], dtype='object')\n",
      "kobybibas/pnml_for_active_learning/duzygmzg\n",
      "Index(['_step', 'training_set_size', 'test_acc', 'test_loss'], dtype='object')\n",
      "kobybibas/pnml_for_active_learning/2m8l67er\n",
      "Index(['_step', 'training_set_size', 'test_acc', 'test_loss'], dtype='object')\n",
      "kobybibas/pnml_for_active_learning/tte1pwkj\n",
      "Index(['_step', 'training_set_size', 'test_acc', 'test_loss'], dtype='object')\n",
      "kobybibas/pnml_for_active_learning/kzhyh9vs\n",
      "Index(['_step', 'training_set_size', 'test_acc', 'test_loss'], dtype='object')\n",
      "kobybibas/pnml_for_active_learning/1by57vkr\n",
      "Index(['_step', 'training_set_size', 'test_acc', 'test_loss'], dtype='object')\n",
      "kobybibas/pnml_for_active_learning/17s779kj\n",
      "Index(['_step', 'training_set_size', 'test_acc', 'test_loss'], dtype='object')\n",
      "kobybibas/pnml_for_active_learning/ielw939h\n",
      "Index(['_step', 'training_set_size', 'test_acc', 'test_loss'], dtype='object')\n",
      "kobybibas/pnml_for_active_learning/1z846kyn\n",
      "Index(['_step', 'training_set_size', 'test_acc', 'test_loss'], dtype='object')\n",
      "kobybibas/pnml_for_active_learning/2x8fvajh\n",
      "Index(['_step', 'training_set_size', 'test_acc', 'test_loss'], dtype='object')\n",
      "kobybibas/pnml_for_active_learning/1ba5a7bz\n",
      "Index(['_step', 'training_set_size', 'test_acc', 'test_loss'], dtype='object')\n",
      "kobybibas/pnml_for_active_learning/kt71vbv1\n",
      "Index(['_step', 'training_set_size', 'test_acc', 'test_loss'], dtype='object')\n",
      "kobybibas/pnml_for_active_learning/3fjgpje3\n",
      "Index(['_step', 'training_set_size', 'test_acc', 'test_loss'], dtype='object')\n",
      "kobybibas/pnml_for_active_learning/14q5whwt\n",
      "Index(['_step', 'training_set_size', 'test_acc', 'test_loss'], dtype='object')\n",
      "kobybibas/pnml_for_active_learning/3v9pq45l\n",
      "Index(['_step', 'training_set_size', 'test_acc', 'test_loss'], dtype='object')\n"
     ]
    }
   ],
   "source": [
    "random_runs = [\n",
    "    \"kobybibas/pnml_for_active_learning/2owqsr4v\",\n",
    "    \"kobybibas/pnml_for_active_learning/3uv8qkzd\",\n",
    "    \"kobybibas/pnml_for_active_learning/1awg0e6d\",\n",
    "    \"kobybibas/pnml_for_active_learning/2uz3ccqp\",\n",
    "    \"kobybibas/pnml_for_active_learning/nk46a46y\",\n",
    "    \"kobybibas/pnml_for_active_learning/fix9x5qh\",\n",
    "]\n",
    "\n",
    "bald_runs = [\n",
    "    \"kobybibas/pnml_for_active_learning/2ppejidh\",\n",
    "    \"kobybibas/pnml_for_active_learning/1if8fe0k\",\n",
    "    \"kobybibas/pnml_for_active_learning/2g6lp2nc\",\n",
    "    \"kobybibas/pnml_for_active_learning/y8yn0f9e\",\n",
    "    \"kobybibas/pnml_for_active_learning/3j1dp6wz\",\n",
    "    \"kobybibas/pnml_for_active_learning/5t9zjpie\",\n",
    "]\n",
    "\n",
    "kmean_runs = [  # KCenterGreedy\n",
    "    \"kobybibas/pnml_for_active_learning/25oljj7j\",\n",
    "    \"kobybibas/pnml_for_active_learning/4qktbvny\",\n",
    "    \"kobybibas/pnml_for_active_learning/2toukhqc\",\n",
    "    \"kobybibas/pnml_for_active_learning/1eywn2fv\",\n",
    "    \"kobybibas/pnml_for_active_learning/18vb8gcm\",\n",
    "    \"kobybibas/pnml_for_active_learning/duzygmzg\",\n",
    "    \"kobybibas/pnml_for_active_learning/2m8l67er\",\n",
    "]\n",
    "\n",
    "epig_runs = [\n",
    "    \"kobybibas/pnml_for_active_learning/tte1pwkj\",\n",
    "    \"kobybibas/pnml_for_active_learning/kzhyh9vs\",\n",
    "    \"kobybibas/pnml_for_active_learning/1by57vkr\",\n",
    "    \"kobybibas/pnml_for_active_learning/17s779kj\",\n",
    "    \"kobybibas/pnml_for_active_learning/ielw939h\",\n",
    "    \"kobybibas/pnml_for_active_learning/1z846kyn\",\n",
    "]\n",
    "\n",
    "pnml_runs = [\n",
    "    \"kobybibas/pnml_for_active_learning/2x8fvajh\",\n",
    "    \"kobybibas/pnml_for_active_learning/1ba5a7bz\",\n",
    "    \"kobybibas/pnml_for_active_learning/kt71vbv1\",\n",
    "    \"kobybibas/pnml_for_active_learning/3fjgpje3\",\n",
    "    \"kobybibas/pnml_for_active_learning/14q5whwt\",\n",
    "    \"kobybibas/pnml_for_active_learning/3v9pq45l\",\n",
    "]\n",
    "\n",
    "random_dfs = process_results(api=api, run_list=random_runs)\n",
    "bald_dfs = process_results(api=api, run_list=bald_runs)\n",
    "kmean_dfs = process_results(api=api, run_list=kmean_runs)\n",
    "epig_dfs = process_results(api=api, run_list=epig_runs)\n",
    "pnml_dfs = process_results(api=api, run_list=pnml_runs)\n"
   ]
  },
  {
   "cell_type": "code",
   "execution_count": 5,
   "metadata": {},
   "outputs": [],
   "source": [
    "rolling_size = 5\n",
    "random_res = execute_df_rollout(random_dfs, rolling_size=rolling_size)\n",
    "bald_res = execute_df_rollout(bald_dfs, rolling_size=rolling_size)\n",
    "kmean_res = execute_df_rollout(kmean_dfs, rolling_size=rolling_size)\n",
    "epig_res = execute_df_rollout(epig_dfs, rolling_size=rolling_size)\n",
    "pnml_res = execute_df_rollout(pnml_dfs, rolling_size=rolling_size)\n",
    "plot_list = [\n",
    "    (random_res, \"Random\"),\n",
    "    (bald_res, \"Bald\"),\n",
    "    (kmean_res, \"Core-set\"),\n",
    "    (epig_res, \"EPIG (UAL)\"),\n",
    "    (pnml_res, \"DIAL\"),\n",
    "]"
   ]
  },
  {
   "cell_type": "code",
   "execution_count": 6,
   "metadata": {},
   "outputs": [
    {
     "name": "stdout",
     "output_type": "stream",
     "text": [
      "78.17589576547232\n",
      "training_set_size_left     240.000000\n",
      "test_acc_left                0.957284\n",
      "test_acc_round               0.957000\n",
      "training_set_size_right    307.000000\n",
      "test_acc_right               0.957497\n",
      "Name: 654, dtype: float64\n"
     ]
    }
   ],
   "source": [
    "row = find_max_train_save(pnml_res, bald_res)\n",
    "print(100 * row.training_set_size_left / row.training_set_size_right)\n",
    "print(row)\n"
   ]
  },
  {
   "cell_type": "code",
   "execution_count": 7,
   "metadata": {},
   "outputs": [
    {
     "name": "stdout",
     "output_type": "stream",
     "text": [
      "Random\n",
      "Bald\n",
      "Core-set\n",
      "EPIG\n",
      "DIAL\n",
      "MNIST OOD\n"
     ]
    },
    {
     "data": {
      "image/png": "[encoded data removed]",
      "text/plain": [
       "<Figure size 400x300 with 1 Axes>"
      ]
     },
     "metadata": {
      "needs_background": "light"
     },
     "output_type": "display_data"
    }
   ],
   "source": [
    "plt.style.use([\"science\", \"bright\", \"no-latex\"])\n",
    "fig, ax = plt.subplots(1, 1, dpi=100, figsize=(4, 3))\n",
    "fig, ax = execute_plot(plot_list, fig, ax)\n",
    "# ax.get_legend().remove()\n",
    "print(\"MNIST OOD\")\n",
    "plt.tight_layout()\n",
    "plt.savefig(osp.join(out_dir, \"mnist_ood.pdf\"))\n",
    "plt.show()\n"
   ]
  },
  {
   "cell_type": "code",
   "execution_count": 8,
   "metadata": {},
   "outputs": [
    {
     "name": "stdout",
     "output_type": "stream",
     "text": [
      "Random\n",
      "0.85\t 145\n",
      "0.75\t 73\n",
      "0.65\t 36\n",
      "Bald\n",
      "0.85\t 83\n",
      "0.75\t 51\n",
      "0.65\t 32\n",
      "Core-set\n",
      "0.85\t 117\n",
      "0.75\t 61\n",
      "0.65\t 33\n",
      "EPIG\n",
      "0.85\t 84\n",
      "0.75\t 56\n",
      "0.65\t 35\n",
      "DIAL\n",
      "0.85\t 73\n",
      "0.75\t 48\n",
      "0.65\t 30\n"
     ]
    }
   ],
   "source": [
    "eps = 0.01\n",
    "acc_values = [0.85, 0.75, 0.65]\n",
    "for dict_df, method in plot_list:\n",
    "    print(method)\n",
    "    df = dict_df[\"mean\"]\n",
    "\n",
    "    for acc in acc_values:\n",
    "        print(f\"{acc}\\t {df[(df > acc - eps ) & (df <= acc )].index[0]}\")\n"
   ]
  },
  {
   "cell_type": "code",
   "execution_count": null,
   "metadata": {},
   "outputs": [],
   "source": []
  }
 ],
 "metadata": {
  "kernelspec": {
   "display_name": "Python 3.9.12 ('pnml_for_active_learning')",
   "language": "python",
   "name": "python3"
  },
  "language_info": {
   "codemirror_mode": {
    "name": "ipython",
    "version": 3
   },
   "file_extension": ".py",
   "mimetype": "text/x-python",
   "name": "python",
   "nbconvert_exporter": "python",
   "pygments_lexer": "ipython3",
   "version": "3.9.12"
  },
  "orig_nbformat": 4,
  "vscode": {
   "interpreter": {
    "hash": "06254c6fe7cee99f33109a01d5d0014bad3e57fbafb604958588f190423760ce"
   }
  }
 },
 "nbformat": 4,
 "nbformat_minor": 2
}
