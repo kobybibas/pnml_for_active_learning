{
 "cells": [
  {
   "cell_type": "code",
   "execution_count": 1,
   "metadata": {},
   "outputs": [],
   "source": [
    "%load_ext autoreload\n",
    "%autoreload 2\n",
    "\n",
    "import os\n",
    "import os.path as osp\n",
    "import sys\n",
    "\n",
    "import matplotlib\n",
    "import matplotlib.pyplot as plt\n",
    "import numpy as np\n",
    "import pandas as pd\n",
    "import wandb\n",
    "\n",
    "sys.path.append(\"../src\")\n",
    "\n",
    "from plot_utils import process_results, execute_df_rollout, execute_plot, find_max_train_save\n",
    "\n",
    "api = wandb.Api(\n",
    "    overrides={\"entity\": \"kobybibas\", \"project\": \"pnml_for_active_learning\"}\n",
    ")\n",
    "out_dir = \"../outputs/analysis\"\n",
    "os.makedirs(out_dir, exist_ok=True)\n",
    "\n",
    "# Project is specified by\n",
    "runs = api.runs(\"kobybibas/pnml_for_active_learning\")\n"
   ]
  },
  {
   "cell_type": "code",
   "execution_count": 2,
   "metadata": {},
   "outputs": [
    {
     "name": "stdout",
     "output_type": "stream",
     "text": [
      "\u001b[34m\u001b[1mwandb\u001b[0m: Currently logged in as: \u001b[33mkobybibas\u001b[0m. Use \u001b[1m`wandb login --relogin`\u001b[0m to force relogin\n"
     ]
    }
   ],
   "source": [
    "! wandb login"
   ]
  },
  {
   "cell_type": "code",
   "execution_count": 9,
   "metadata": {},
   "outputs": [
    {
     "name": "stdout",
     "output_type": "stream",
     "text": [
      "kobybibas/pnml_for_active_learning/2owqsr4v\n",
      "kobybibas/pnml_for_active_learning/3uv8qkzd\n",
      "kobybibas/pnml_for_active_learning/1awg0e6d\n",
      "kobybibas/pnml_for_active_learning/2uz3ccqp\n",
      "kobybibas/pnml_for_active_learning/nk46a46y\n",
      "kobybibas/pnml_for_active_learning/fix9x5qh\n",
      "kobybibas/pnml_for_active_learning/2ppejidh\n",
      "kobybibas/pnml_for_active_learning/1if8fe0k\n",
      "kobybibas/pnml_for_active_learning/2g6lp2nc\n",
      "kobybibas/pnml_for_active_learning/y8yn0f9e\n",
      "kobybibas/pnml_for_active_learning/3j1dp6wz\n",
      "kobybibas/pnml_for_active_learning/5t9zjpie\n",
      "kobybibas/pnml_for_active_learning/25oljj7j\n",
      "kobybibas/pnml_for_active_learning/4qktbvny\n",
      "kobybibas/pnml_for_active_learning/2toukhqc\n",
      "kobybibas/pnml_for_active_learning/1eywn2fv\n",
      "kobybibas/pnml_for_active_learning/18vb8gcm\n",
      "kobybibas/pnml_for_active_learning/duzygmzg\n",
      "kobybibas/pnml_for_active_learning/2m8l67er\n",
      "kobybibas/pnml_for_active_learning/tte1pwkj\n",
      "kobybibas/pnml_for_active_learning/kzhyh9vs\n",
      "kobybibas/pnml_for_active_learning/1by57vkr\n",
      "kobybibas/pnml_for_active_learning/17s779kj\n",
      "kobybibas/pnml_for_active_learning/ielw939h\n",
      "kobybibas/pnml_for_active_learning/1z846kyn\n",
      "kobybibas/pnml_for_active_learning/2x8fvajh\n",
      "kobybibas/pnml_for_active_learning/1ba5a7bz\n",
      "kobybibas/pnml_for_active_learning/kt71vbv1\n",
      "kobybibas/pnml_for_active_learning/3fjgpje3\n",
      "kobybibas/pnml_for_active_learning/14q5whwt\n",
      "kobybibas/pnml_for_active_learning/3v9pq45l\n"
     ]
    }
   ],
   "source": [
    "random_runs = [\n",
    "    \"kobybibas/pnml_for_active_learning/2owqsr4v\",\n",
    "    \"kobybibas/pnml_for_active_learning/3uv8qkzd\",\n",
    "    \"kobybibas/pnml_for_active_learning/1awg0e6d\",\n",
    "    \"kobybibas/pnml_for_active_learning/2uz3ccqp\",\n",
    "    \"kobybibas/pnml_for_active_learning/nk46a46y\",\n",
    "    \"kobybibas/pnml_for_active_learning/fix9x5qh\",\n",
    "]\n",
    "\n",
    "bald_runs = [\n",
    "    \"kobybibas/pnml_for_active_learning/2ppejidh\",\n",
    "    \"kobybibas/pnml_for_active_learning/1if8fe0k\",\n",
    "    \"kobybibas/pnml_for_active_learning/2g6lp2nc\",\n",
    "    \"kobybibas/pnml_for_active_learning/y8yn0f9e\",\n",
    "    \"kobybibas/pnml_for_active_learning/3j1dp6wz\",\n",
    "    \"kobybibas/pnml_for_active_learning/5t9zjpie\",\n",
    "]\n",
    "\n",
    "kmean_runs = [  # KCenterGreedy\n",
    "    \"kobybibas/pnml_for_active_learning/25oljj7j\",\n",
    "    \"kobybibas/pnml_for_active_learning/4qktbvny\",\n",
    "    \"kobybibas/pnml_for_active_learning/2toukhqc\",\n",
    "    \"kobybibas/pnml_for_active_learning/1eywn2fv\",\n",
    "    \"kobybibas/pnml_for_active_learning/18vb8gcm\",\n",
    "    \"kobybibas/pnml_for_active_learning/duzygmzg\",\n",
    "    \"kobybibas/pnml_for_active_learning/2m8l67er\",\n",
    "]\n",
    "\n",
    "epig_runs = [\n",
    "    \"kobybibas/pnml_for_active_learning/tte1pwkj\",\n",
    "    \"kobybibas/pnml_for_active_learning/kzhyh9vs\",\n",
    "    \"kobybibas/pnml_for_active_learning/1by57vkr\",\n",
    "    \"kobybibas/pnml_for_active_learning/17s779kj\",\n",
    "    \"kobybibas/pnml_for_active_learning/ielw939h\",\n",
    "    \"kobybibas/pnml_for_active_learning/1z846kyn\",\n",
    "]\n",
    "\n",
    "pnml_runs = [\n",
    "    \"kobybibas/pnml_for_active_learning/2x8fvajh\",\n",
    "    \"kobybibas/pnml_for_active_learning/1ba5a7bz\",\n",
    "    \"kobybibas/pnml_for_active_learning/kt71vbv1\",\n",
    "    \"kobybibas/pnml_for_active_learning/3fjgpje3\",\n",
    "    \"kobybibas/pnml_for_active_learning/14q5whwt\",\n",
    "    \"kobybibas/pnml_for_active_learning/3v9pq45l\",\n",
    "]\n",
    "\n",
    "random_dfs = process_results(api=api, run_list=random_runs)\n",
    "bald_dfs = process_results(api=api, run_list=bald_runs)\n",
    "kmean_dfs = process_results(api=api, run_list=kmean_runs)\n",
    "epig_dfs = process_results(api=api, run_list=epig_runs)\n",
    "pnml_dfs = process_results(api=api, run_list=pnml_runs)"
   ]
  },
  {
   "cell_type": "code",
   "execution_count": 10,
   "metadata": {},
   "outputs": [],
   "source": [
    "rolling_size = 5\n",
    "random_res = execute_df_rollout(random_dfs, rolling_size=rolling_size)\n",
    "bald_res = execute_df_rollout(bald_dfs, rolling_size=rolling_size)\n",
    "kmean_res = execute_df_rollout(kmean_dfs, rolling_size=rolling_size)\n",
    "epig_res = execute_df_rollout(epig_dfs, rolling_size=rolling_size)\n",
    "pnml_res = execute_df_rollout(pnml_dfs, rolling_size=rolling_size)\n",
    "plot_list = [\n",
    "    (random_res, \"Random\"),\n",
    "    (bald_res, \"Bald\"),\n",
    "    (kmean_res, \"Core-set\"),\n",
    "    (epig_res,\"EPIG\"),\n",
    "    (pnml_res, \"DIAL\"),\n",
    "]"
   ]
  },
  {
   "cell_type": "code",
   "execution_count": 11,
   "metadata": {},
   "outputs": [
    {
     "name": "stdout",
     "output_type": "stream",
     "text": [
      "78.17589576547232\n",
      "training_set_size_left     240.000000\n",
      "test_acc_left                0.957284\n",
      "test_acc_round               0.957000\n",
      "training_set_size_right    307.000000\n",
      "test_acc_right               0.957497\n",
      "Name: 654, dtype: float64\n"
     ]
    }
   ],
   "source": [
    "row = find_max_train_save(pnml_res, bald_res)\n",
    "print(100 * row.training_set_size_left / row.training_set_size_right)\n",
    "print(row)"
   ]
  },
  {
   "cell_type": "code",
   "execution_count": 12,
   "metadata": {},
   "outputs": [
    {
     "name": "stdout",
     "output_type": "stream",
     "text": [
      "Random\n",
      "Bald\n",
      "Core-set\n",
      "{'mean': training_set_size\n",
      "10          NaN\n",
      "11          NaN\n",
      "12          NaN\n",
      "13          NaN\n",
      "14     0.514523\n",
      "         ...   \n",
      "305    0.948987\n",
      "306    0.949767\n",
      "307    0.949740\n",
      "308    0.950447\n",
      "309    0.951040\n",
      "Name: test_acc, Length: 300, dtype: float64, 'low': training_set_size\n",
      "10          NaN\n",
      "11          NaN\n",
      "12          NaN\n",
      "13          NaN\n",
      "14     0.538719\n",
      "         ...   \n",
      "305    0.973183\n",
      "306    0.973963\n",
      "307    0.973936\n",
      "308    0.974643\n",
      "309    0.975236\n",
      "Name: test_acc, Length: 300, dtype: float64, 'high': training_set_size\n",
      "10          NaN\n",
      "11          NaN\n",
      "12          NaN\n",
      "13          NaN\n",
      "14     0.490327\n",
      "         ...   \n",
      "305    0.924791\n",
      "306    0.925571\n",
      "307    0.925544\n",
      "308    0.926251\n",
      "309    0.926844\n",
      "Name: test_acc, Length: 300, dtype: float64}\n"
     ]
    },
    {
     "ename": "TypeError",
     "evalue": "string indices must be integers",
     "output_type": "error",
     "traceback": [
      "\u001b[0;31m---------------------------------------------------------------------------\u001b[0m",
      "\u001b[0;31mTypeError\u001b[0m                                 Traceback (most recent call last)",
      "\u001b[1;32m/home/ubuntu/pnml_for_active_learning/notebooks/plot_mnist_ood.ipynb Cell 6\u001b[0m in \u001b[0;36m<cell line: 3>\u001b[0;34m()\u001b[0m\n\u001b[1;32m      <a href='vscode-notebook-cell://ssh-remote%2Bec2/home/ubuntu/pnml_for_active_learning/notebooks/plot_mnist_ood.ipynb#W5sdnNjb2RlLXJlbW90ZQ%3D%3D?line=0'>1</a>\u001b[0m plt\u001b[39m.\u001b[39mstyle\u001b[39m.\u001b[39muse([\u001b[39m\"\u001b[39m\u001b[39mscience\u001b[39m\u001b[39m\"\u001b[39m, \u001b[39m\"\u001b[39m\u001b[39mbright\u001b[39m\u001b[39m\"\u001b[39m, \u001b[39m\"\u001b[39m\u001b[39mno-latex\u001b[39m\u001b[39m\"\u001b[39m])\n\u001b[1;32m      <a href='vscode-notebook-cell://ssh-remote%2Bec2/home/ubuntu/pnml_for_active_learning/notebooks/plot_mnist_ood.ipynb#W5sdnNjb2RlLXJlbW90ZQ%3D%3D?line=1'>2</a>\u001b[0m fig, ax \u001b[39m=\u001b[39m plt\u001b[39m.\u001b[39msubplots(\u001b[39m1\u001b[39m, \u001b[39m1\u001b[39m, dpi\u001b[39m=\u001b[39m\u001b[39m100\u001b[39m, figsize\u001b[39m=\u001b[39m(\u001b[39m4\u001b[39m, \u001b[39m3\u001b[39m))\n\u001b[0;32m----> <a href='vscode-notebook-cell://ssh-remote%2Bec2/home/ubuntu/pnml_for_active_learning/notebooks/plot_mnist_ood.ipynb#W5sdnNjb2RlLXJlbW90ZQ%3D%3D?line=2'>3</a>\u001b[0m fig, ax \u001b[39m=\u001b[39m execute_plot(plot_list, fig, ax)\n\u001b[1;32m      <a href='vscode-notebook-cell://ssh-remote%2Bec2/home/ubuntu/pnml_for_active_learning/notebooks/plot_mnist_ood.ipynb#W5sdnNjb2RlLXJlbW90ZQ%3D%3D?line=3'>4</a>\u001b[0m ax\u001b[39m.\u001b[39mget_legend()\u001b[39m.\u001b[39mremove()\n\u001b[1;32m      <a href='vscode-notebook-cell://ssh-remote%2Bec2/home/ubuntu/pnml_for_active_learning/notebooks/plot_mnist_ood.ipynb#W5sdnNjb2RlLXJlbW90ZQ%3D%3D?line=4'>5</a>\u001b[0m \u001b[39mprint\u001b[39m(\u001b[39m\"\u001b[39m\u001b[39mMNIST OOD\u001b[39m\u001b[39m\"\u001b[39m)\n",
      "File \u001b[0;32m~/pnml_for_active_learning/notebooks/../src/plot_utils.py:58\u001b[0m, in \u001b[0;36mexecute_plot\u001b[0;34m(plot_list, fig, ax)\u001b[0m\n\u001b[1;32m     56\u001b[0m \u001b[39mfor\u001b[39;00m i, (res, name) \u001b[39min\u001b[39;00m \u001b[39menumerate\u001b[39m(plot_list):\n\u001b[1;32m     57\u001b[0m     \u001b[39mprint\u001b[39m(name)\n\u001b[0;32m---> 58\u001b[0m     ax\u001b[39m.\u001b[39mplot(res[\u001b[39m\"\u001b[39;49m\u001b[39mmean\u001b[39;49m\u001b[39m\"\u001b[39;49m], label\u001b[39m=\u001b[39mname, color\u001b[39m=\u001b[39mcolors[i])\n\u001b[1;32m     59\u001b[0m     ax\u001b[39m.\u001b[39mfill_between(\n\u001b[1;32m     60\u001b[0m         res[\u001b[39m\"\u001b[39m\u001b[39mlow\u001b[39m\u001b[39m\"\u001b[39m]\u001b[39m.\u001b[39mindex,\n\u001b[1;32m     61\u001b[0m         res[\u001b[39m\"\u001b[39m\u001b[39mlow\u001b[39m\u001b[39m\"\u001b[39m]\u001b[39m.\u001b[39mvalues,\n\u001b[0;32m   (...)\u001b[0m\n\u001b[1;32m     64\u001b[0m         alpha\u001b[39m=\u001b[39m\u001b[39m0.1\u001b[39m,\n\u001b[1;32m     65\u001b[0m     )\n\u001b[1;32m     66\u001b[0m     min_val, max_val \u001b[39m=\u001b[39m \u001b[39mmin\u001b[39m(min_val, res[\u001b[39m\"\u001b[39m\u001b[39mmean\u001b[39m\u001b[39m\"\u001b[39m]\u001b[39m.\u001b[39mmin()), \u001b[39mmax\u001b[39m(\n\u001b[1;32m     67\u001b[0m         max_val, res[\u001b[39m\"\u001b[39m\u001b[39mmean\u001b[39m\u001b[39m\"\u001b[39m]\u001b[39m.\u001b[39mmax()\n\u001b[1;32m     68\u001b[0m     )\n",
      "\u001b[0;31mTypeError\u001b[0m: string indices must be integers"
     ]
    },
    {
     "data": {
      "image/png": "[encoded data removed]",
      "text/plain": [
       "<Figure size 400x300 with 1 Axes>"
      ]
     },
     "metadata": {
      "needs_background": "light"
     },
     "output_type": "display_data"
    }
   ],
   "source": [
    "plt.style.use([\"science\", \"bright\", \"no-latex\"])\n",
    "fig, ax = plt.subplots(1, 1, dpi=100, figsize=(4, 3))\n",
    "fig, ax = execute_plot(plot_list, fig, ax)\n",
    "ax.get_legend().remove()\n",
    "print(\"MNIST OOD\")\n",
    "plt.tight_layout()\n",
    "plt.savefig(osp.join(out_dir, \"mnist_ood.pdf\"))\n",
    "plt.show()"
   ]
  },
  {
   "cell_type": "code",
   "execution_count": null,
   "metadata": {},
   "outputs": [
    {
     "name": "stdout",
     "output_type": "stream",
     "text": [
      "Random\n",
      "0.85\t 145\n",
      "0.75\t 73\n",
      "0.65\t 36\n",
      "Bald\n",
      "0.85\t 83\n",
      "0.75\t 51\n",
      "0.65\t 32\n",
      "Core-set\n",
      "0.85\t 117\n",
      "0.75\t 61\n",
      "0.65\t 33\n",
      "DIAL\n",
      "0.85\t 73\n",
      "0.75\t 48\n",
      "0.65\t 30\n"
     ]
    }
   ],
   "source": [
    "eps = 0.01\n",
    "acc_values = [0.85, 0.75, 0.65]\n",
    "for dict_df, method in plot_list:\n",
    "    print(method)\n",
    "    df = dict_df[\"mean\"]\n",
    "\n",
    "    for acc in acc_values:\n",
    "        print(f\"{acc}\\t {df[(df > acc - eps ) & (df <= acc )].index[0]}\")"
   ]
  },
  {
   "cell_type": "code",
   "execution_count": null,
   "metadata": {},
   "outputs": [],
   "source": []
  }
 ],
 "metadata": {
  "kernelspec": {
   "display_name": "Python 3.9.12 ('pnml_for_active_learning')",
   "language": "python",
   "name": "python3"
  },
  "language_info": {
   "codemirror_mode": {
    "name": "ipython",
    "version": 3
   },
   "file_extension": ".py",
   "mimetype": "text/x-python",
   "name": "python",
   "nbconvert_exporter": "python",
   "pygments_lexer": "ipython3",
   "version": "3.9.12"
  },
  "orig_nbformat": 4,
  "vscode": {
   "interpreter": {
    "hash": "06254c6fe7cee99f33109a01d5d0014bad3e57fbafb604958588f190423760ce"
   }
  }
 },
 "nbformat": 4,
 "nbformat_minor": 2
}
